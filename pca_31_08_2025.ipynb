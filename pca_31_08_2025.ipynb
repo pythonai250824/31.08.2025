{
 "cells": [
  {
   "cell_type": "code",
   "execution_count": 3,
   "id": "992a434f-3dbf-455b-8a5a-2c1c5134a2df",
   "metadata": {},
   "outputs": [],
   "source": [
    "import pandas as pd\n",
    "import seaborn as sns\n",
    "import numpy as np\n",
    "import matplotlib.pyplot as plt\n",
    "from sklearn.preprocessing import MinMaxScaler\n",
    "from sklearn.cluster import AgglomerativeClustering\n",
    "from scipy.cluster.hierarchy import linkage, dendrogram, fcluster"
   ]
  },
  {
   "cell_type": "code",
   "execution_count": 24,
   "id": "442d02ae-bbb8-41fd-880d-2c0eb3556f40",
   "metadata": {},
   "outputs": [
    {
     "name": "stdout",
     "output_type": "stream",
     "text": [
      "[ 2  4  6  8 10]\n",
      "[ 7  9  8 29 11]\n",
      "\n",
      "[39.2]\n",
      "[57.10000000000001]\n",
      "not good varaice , add another pca...\n",
      "\n",
      "[39.2, 2.4200000000000017]\n",
      "[57.10000000000001, 12.560000000000002]\n"
     ]
    }
   ],
   "source": [
    "# example 1\n",
    "line1_features = np.array([2, 4, 6, 8, 10])\n",
    "line2_features = np.array([7, 9, 8, 29, 11])\n",
    "# ...\n",
    "\n",
    "print(line1_features)\n",
    "print(line2_features)\n",
    "print()\n",
    "\n",
    "pca1 = [1.2, -3.4, 5.5, 0.8, 1.1]  # i made up random numbers\n",
    "\n",
    "# print(line1_features * pca1)\n",
    "# print(np.sum(line1_features * pca1))\n",
    "line1_pca1 = np.sum(line1_features * pca1)\n",
    "print([line1_pca1])\n",
    "\n",
    "# print(line2_features * pca1)\n",
    "# print(np.sum(line2_features * pca1))\n",
    "line2_pca1 = np.sum(line2_features * pca1)\n",
    "print([line2_pca1])\n",
    "\n",
    "# calca variance .... usually we would like 70%+\n",
    "print('not good varaice , add another pca...')\n",
    "print()\n",
    "\n",
    "pca2 = [0.2, -1.4, 3.77, 0.5, -1.9]  # i made up random numbers\n",
    "\n",
    "# print(line1_features * pca2)\n",
    "# np.sum(line1_features * pca2)\n",
    "line1_pca2 = np.sum(line1_features * pca2)\n",
    "\n",
    "# print(line2_features * pca2)\n",
    "# print(np.sum(line2_features * pca2))\n",
    "line2_pca2 = np.sum(line2_features * pca2)\n",
    "\n",
    "print([line1_pca1, line1_pca2])\n",
    "print([line2_pca1, line2_pca2])\n",
    "\n",
    "# line1_features = np.array([2, 4, 6, 8, 10])\n",
    "# line2_features = np.array([7, 9, 8, 29, 11])"
   ]
  },
  {
   "cell_type": "code",
   "execution_count": 36,
   "id": "72f06c53-0872-410a-9604-7c71586e297f",
   "metadata": {},
   "outputs": [
    {
     "name": "stdout",
     "output_type": "stream",
     "text": [
      "(10000, 11)\n"
     ]
    },
    {
     "data": {
      "text/plain": [
       "array([ 12.93547593,  23.75254327,  33.73313264,  43.10402318,\n",
       "        52.2301439 ,  61.30109839,  70.26395332,  79.18924743,\n",
       "        87.98945142,  94.41205632, 100.        ])"
      ]
     },
     "execution_count": 36,
     "metadata": {},
     "output_type": "execute_result"
    }
   ],
   "source": [
    "# example 2\n",
    "import pandas as pd\n",
    "from sklearn.preprocessing import StandardScaler\n",
    "from sklearn.decomposition import PCA\n",
    "\n",
    "# 1. Load dataset\n",
    "df = pd.read_csv(\"Churn_Modelling.csv\")\n",
    "\n",
    "# 2. Keep only numeric columns (ignore text like Geography, Gender, etc.)\n",
    "df_numeric = df.select_dtypes(include=[\"float64\", \"int64\"])\n",
    "\n",
    "# 3. Standardize the features\n",
    "scaler = StandardScaler()\n",
    "scaled_data = scaler.fit_transform(df_numeric)\n",
    "\n",
    "pca = PCA()\n",
    "pca_result = pca.fit_transform(scaled_data)\n",
    "\n",
    "print(pca_result.shape)\n",
    "pca.explained_variance_ratio_ * 100\n",
    "np.cumsum(pca.explained_variance_ratio_ * 100)"
   ]
  }
 ],
 "metadata": {
  "kernelspec": {
   "display_name": "Python 3 (ipykernel)",
   "language": "python",
   "name": "python3"
  },
  "language_info": {
   "codemirror_mode": {
    "name": "ipython",
    "version": 3
   },
   "file_extension": ".py",
   "mimetype": "text/x-python",
   "name": "python",
   "nbconvert_exporter": "python",
   "pygments_lexer": "ipython3",
   "version": "3.11.7"
  }
 },
 "nbformat": 4,
 "nbformat_minor": 5
}
